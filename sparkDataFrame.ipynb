{
 "cells": [
  {
   "cell_type": "code",
   "execution_count": 1,
   "metadata": {},
   "outputs": [],
   "source": [
    "from pyspark.sql import SparkSession"
   ]
  },
  {
   "cell_type": "code",
   "execution_count": 3,
   "metadata": {
    "scrolled": true
   },
   "outputs": [
    {
     "name": "stdout",
     "output_type": "stream",
     "text": [
      "+------+---+------+\n",
      "|  name|age|height|\n",
      "+------+---+------+\n",
      "|  Jonh| 22|  1.80|\n",
      "|Hughes| 34|  1.96|\n",
      "|  Mary| 27|  1.56|\n",
      "+------+---+------+\n",
      "\n"
     ]
    }
   ],
   "source": [
    "spark = SparkSession.builder.appName(\"Python Spark Session\").getOrCreate()\n",
    "df = spark.read.csv(\"file:///D:/Big-Data-Science/Big-Data-Analysis-with-Python-master/Lesson03/data/test.csv\", header=True)\n",
    "df.show()"
   ]
  },
  {
   "cell_type": "code",
   "execution_count": 4,
   "metadata": {},
   "outputs": [
    {
     "data": {
      "text/plain": [
       "Column<b'age[Column][age]'>"
      ]
     },
     "execution_count": 4,
     "metadata": {},
     "output_type": "execute_result"
    }
   ],
   "source": [
    "df['age'].Column['age']"
   ]
  },
  {
   "cell_type": "code",
   "execution_count": 5,
   "metadata": {},
   "outputs": [
    {
     "name": "stdout",
     "output_type": "stream",
     "text": [
      "+------+\n",
      "|  name|\n",
      "+------+\n",
      "|  Jonh|\n",
      "|Hughes|\n",
      "|  Mary|\n",
      "+------+\n",
      "\n"
     ]
    }
   ],
   "source": [
    "df.select(df['name']).show()"
   ]
  },
  {
   "cell_type": "code",
   "execution_count": 6,
   "metadata": {},
   "outputs": [
    {
     "name": "stdout",
     "output_type": "stream",
     "text": [
      "+------+---------+\n",
      "|  name|(age + 1)|\n",
      "+------+---------+\n",
      "|  Jonh|     23.0|\n",
      "|Hughes|     35.0|\n",
      "|  Mary|     28.0|\n",
      "+------+---------+\n",
      "\n"
     ]
    }
   ],
   "source": [
    "df.select(df['name'],df['age']+1).show()"
   ]
  },
  {
   "cell_type": "code",
   "execution_count": 7,
   "metadata": {},
   "outputs": [
    {
     "name": "stdout",
     "output_type": "stream",
     "text": [
      "+------+---+------+\n",
      "|  name|age|height|\n",
      "+------+---+------+\n",
      "|Hughes| 34|  1.96|\n",
      "|  Mary| 27|  1.56|\n",
      "+------+---+------+\n",
      "\n"
     ]
    }
   ],
   "source": [
    "df.filter(df['age'] > 25).show()"
   ]
  },
  {
   "cell_type": "code",
   "execution_count": 8,
   "metadata": {},
   "outputs": [
    {
     "name": "stdout",
     "output_type": "stream",
     "text": [
      "+---+-----+\n",
      "|age|count|\n",
      "+---+-----+\n",
      "| 34|    1|\n",
      "| 22|    1|\n",
      "| 27|    1|\n",
      "+---+-----+\n",
      "\n"
     ]
    }
   ],
   "source": [
    "df.groupBy(\"age\").count().show()"
   ]
  },
  {
   "cell_type": "code",
   "execution_count": 9,
   "metadata": {},
   "outputs": [
    {
     "name": "stdout",
     "output_type": "stream",
     "text": [
      "root\n",
      " |-- name: string (nullable = true)\n",
      " |-- age: string (nullable = true)\n",
      " |-- height: string (nullable = true)\n",
      "\n"
     ]
    }
   ],
   "source": [
    "df.printSchema()"
   ]
  },
  {
   "cell_type": "code",
   "execution_count": 10,
   "metadata": {},
   "outputs": [
    {
     "name": "stdout",
     "output_type": "stream",
     "text": [
      "+------+---+------+\n",
      "|  name|age|height|\n",
      "+------+---+------+\n",
      "|  Jonh| 22|  1.80|\n",
      "|Hughes| 34|  1.96|\n",
      "|  Mary| 27|  1.56|\n",
      "+------+---+------+\n",
      "\n"
     ]
    }
   ],
   "source": [
    "df.createOrReplaceTempView(\"people\")\n",
    "sqlDF = spark.sql(\"SELECT * FROM people\")\n",
    "sqlDF.show()"
   ]
  },
  {
   "cell_type": "code",
   "execution_count": 11,
   "metadata": {},
   "outputs": [
    {
     "name": "stdout",
     "output_type": "stream",
     "text": [
      "+------+---+------+\n",
      "|  name|age|height|\n",
      "+------+---+------+\n",
      "|  Jonh| 22|  1.80|\n",
      "|Hughes| 34|  1.96|\n",
      "|  Mary| 27|  1.56|\n",
      "+------+---+------+\n",
      "\n",
      "+------+---+------+\n",
      "|  name|age|height|\n",
      "+------+---+------+\n",
      "|  Jonh| 22|  1.80|\n",
      "|Hughes| 34|  1.96|\n",
      "|  Mary| 27|  1.56|\n",
      "+------+---+------+\n",
      "\n"
     ]
    }
   ],
   "source": [
    "df.createGlobalTempView(\"people\")\n",
    "spark.sql(\"SELECT * FROM global_temp.people\").show()\n",
    "spark.newSession().sql(\"SELECT * FROM global_temp.people\").show()"
   ]
  },
  {
   "cell_type": "code",
   "execution_count": 12,
   "metadata": {},
   "outputs": [],
   "source": [
    "from pyspark.sql import SparkSession\n",
    "spark = SparkSession.builder.appName(\"Python Spark Session\").getOrCreate()"
   ]
  },
  {
   "cell_type": "code",
   "execution_count": 14,
   "metadata": {},
   "outputs": [],
   "source": [
    "df = spark.read.json(\"hdfs://localhost:9000/data/userdata.json\")\n",
    "#df = spark.read.json(\"data\\people.json\", multiLine=True)"
   ]
  },
  {
   "cell_type": "code",
   "execution_count": 15,
   "metadata": {},
   "outputs": [
    {
     "name": "stdout",
     "output_type": "stream",
     "text": [
      "root\n",
      " |-- age: long (nullable = true)\n",
      " |-- name: string (nullable = true)\n",
      "\n"
     ]
    }
   ],
   "source": [
    "df.printSchema()"
   ]
  },
  {
   "cell_type": "code",
   "execution_count": 16,
   "metadata": {},
   "outputs": [
    {
     "name": "stdout",
     "output_type": "stream",
     "text": [
      "+---+-------+\n",
      "|age|   name|\n",
      "+---+-------+\n",
      "| 12|Michael|\n",
      "| 13|   Andy|\n",
      "|  8| Justin|\n",
      "+---+-------+\n",
      "\n"
     ]
    }
   ],
   "source": [
    "df.show()"
   ]
  },
  {
   "cell_type": "code",
   "execution_count": 17,
   "metadata": {},
   "outputs": [],
   "source": [
    "df.write.csv(\"hdfs://localhost:9000/data/userdata_new.csv\", header=True)"
   ]
  },
  {
   "cell_type": "code",
   "execution_count": null,
   "metadata": {},
   "outputs": [],
   "source": [
    "from pyspark.sql import SparkSession\n",
    "spark = SparkSession.builder.appName(\"Python Spark Session\").getOrCreate()"
   ]
  },
  {
   "cell_type": "code",
   "execution_count": 19,
   "metadata": {},
   "outputs": [
    {
     "data": {
      "text/plain": [
       "['To be, or not to be, that is the question:',\n",
       " \"Whether 'tis nobler in the mind to suffer\",\n",
       " 'The slings and arrows of outrageous fortune,',\n",
       " 'Or to take arms against a sea of troubles',\n",
       " 'And by opposing end them. To die—to sleep,',\n",
       " 'No more; and by a sleep to say we end',\n",
       " 'The heart-ache and the thousand natural shocks',\n",
       " \"That flesh is heir to: 'tis a consummation\",\n",
       " \"Devoutly to be wish'd. To die, to sleep;\",\n",
       " \"To sleep, perchance to dream—ay, there's the rub:\",\n",
       " 'For in that sleep of death what dreams may come,',\n",
       " 'When we have shuffled off this mortal coil,',\n",
       " \"Must give us pause—there's the respect\",\n",
       " 'That makes calamity of so long life.']"
      ]
     },
     "execution_count": 19,
     "metadata": {},
     "output_type": "execute_result"
    }
   ],
   "source": [
    "from operator import add\n",
    "rdd_df = spark.read.text(\"file:///D:/Big-Data-Science/Big-Data-Analysis-with-Python-master/Lesson03/data/shake.txt\").rdd\n",
    "lines = rdd_df.map(lambda line: line[0])\n",
    "lines.collect()"
   ]
  },
  {
   "cell_type": "code",
   "execution_count": 20,
   "metadata": {},
   "outputs": [
    {
     "data": {
      "text/plain": [
       "14"
      ]
     },
     "execution_count": 20,
     "metadata": {},
     "output_type": "execute_result"
    }
   ],
   "source": [
    "lines.count()"
   ]
  },
  {
   "cell_type": "code",
   "execution_count": 21,
   "metadata": {},
   "outputs": [],
   "source": [
    "splits = lines.flatMap(lambda x: x.split(' '))\n",
    "lower_splits = splits.map(lambda x: x.lower().strip())\n",
    "prep = ['the', 'a', ',', '.']\n",
    "tokens = lower_splits.filter(lambda x: x and x not in prep)\n",
    "token_list = tokens.map(lambda x: [x, 1])\n",
    "count = token_list.reduceByKey(add).sortBy(lambda x: x[1], ascending=False)"
   ]
  },
  {
   "cell_type": "code",
   "execution_count": 22,
   "metadata": {},
   "outputs": [
    {
     "data": {
      "text/plain": [
       "[('to', 11),\n",
       " ('that', 4),\n",
       " ('and', 4),\n",
       " ('of', 4),\n",
       " ('be,', 2),\n",
       " ('or', 2),\n",
       " ('is', 2),\n",
       " (\"'tis\", 2),\n",
       " ('in', 2),\n",
       " ('by', 2),\n",
       " ('end', 2),\n",
       " ('sleep,', 2),\n",
       " ('sleep', 2),\n",
       " ('we', 2),\n",
       " ('not', 1),\n",
       " ('question:', 1),\n",
       " ('whether', 1),\n",
       " ('nobler', 1),\n",
       " ('mind', 1),\n",
       " ('suffer', 1),\n",
       " ('slings', 1),\n",
       " ('arrows', 1),\n",
       " ('outrageous', 1),\n",
       " ('fortune,', 1),\n",
       " ('take', 1),\n",
       " ('arms', 1),\n",
       " ('against', 1),\n",
       " ('sea', 1),\n",
       " ('troubles', 1),\n",
       " ('opposing', 1),\n",
       " ('them.', 1),\n",
       " ('die—to', 1),\n",
       " ('no', 1),\n",
       " ('more;', 1),\n",
       " ('say', 1),\n",
       " ('heart-ache', 1),\n",
       " ('thousand', 1),\n",
       " ('natural', 1),\n",
       " ('shocks', 1),\n",
       " ('flesh', 1),\n",
       " ('heir', 1),\n",
       " ('to:', 1),\n",
       " ('consummation', 1),\n",
       " ('devoutly', 1),\n",
       " ('be', 1),\n",
       " (\"wish'd.\", 1),\n",
       " ('die,', 1),\n",
       " ('sleep;', 1),\n",
       " ('perchance', 1),\n",
       " ('dream—ay,', 1),\n",
       " (\"there's\", 1),\n",
       " ('rub:', 1),\n",
       " ('for', 1),\n",
       " ('death', 1),\n",
       " ('what', 1),\n",
       " ('dreams', 1),\n",
       " ('may', 1),\n",
       " ('come,', 1),\n",
       " ('when', 1),\n",
       " ('have', 1),\n",
       " ('shuffled', 1),\n",
       " ('off', 1),\n",
       " ('this', 1),\n",
       " ('mortal', 1),\n",
       " ('coil,', 1),\n",
       " ('must', 1),\n",
       " ('give', 1),\n",
       " ('us', 1),\n",
       " (\"pause—there's\", 1),\n",
       " ('respect', 1),\n",
       " ('makes', 1),\n",
       " ('calamity', 1),\n",
       " ('so', 1),\n",
       " ('long', 1),\n",
       " ('life.', 1)]"
      ]
     },
     "execution_count": 22,
     "metadata": {},
     "output_type": "execute_result"
    }
   ],
   "source": [
    "count.collect()"
   ]
  },
  {
   "cell_type": "code",
   "execution_count": null,
   "metadata": {},
   "outputs": [],
   "source": []
  }
 ],
 "metadata": {
  "kernelspec": {
   "display_name": "Python 3",
   "language": "python",
   "name": "python3"
  },
  "language_info": {
   "codemirror_mode": {
    "name": "ipython",
    "version": 3
   },
   "file_extension": ".py",
   "mimetype": "text/x-python",
   "name": "python",
   "nbconvert_exporter": "python",
   "pygments_lexer": "ipython3",
   "version": "3.7.4"
  },
  "toc": {
   "base_numbering": 1,
   "nav_menu": {},
   "number_sections": true,
   "sideBar": true,
   "skip_h1_title": false,
   "title_cell": "Table of Contents",
   "title_sidebar": "Contents",
   "toc_cell": false,
   "toc_position": {},
   "toc_section_display": true,
   "toc_window_display": false
  }
 },
 "nbformat": 4,
 "nbformat_minor": 2
}
