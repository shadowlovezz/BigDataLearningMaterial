{
 "cells": [
  {
   "cell_type": "code",
   "execution_count": 1,
   "metadata": {},
   "outputs": [],
   "source": [
    "import pandas as pd\n",
    "import numpy as np\n",
    "from sklearn.model_selection import train_test_split\n",
    "from sklearn.metrics import accuracy_score\n",
    "from sklearn.neighbors import KNeighborsClassifier"
   ]
  },
  {
   "cell_type": "code",
   "execution_count": 2,
   "metadata": {},
   "outputs": [],
   "source": [
    "names = ['sepal_length', 'sepal_width', 'petal_length', 'petal_width', 'class']"
   ]
  },
  {
   "cell_type": "code",
   "execution_count": 3,
   "metadata": {},
   "outputs": [],
   "source": [
    "df = pd.read_csv('Iris.data.csv', header=None, names=names)\n",
    "X = np.array(df.iloc[:, 0:4])\n",
    "y = np.array(df['class'])"
   ]
  },
  {
   "cell_type": "code",
   "execution_count": 4,
   "metadata": {},
   "outputs": [],
   "source": [
    "# split the data into the train and test sets\n",
    "X_train, X_test, y_train, y_test = train_test_split(X, y, test_size=0.30)"
   ]
  },
  {
   "cell_type": "code",
   "execution_count": 8,
   "metadata": {},
   "outputs": [],
   "source": [
    "knn = KNeighborsClassifier(n_neighbors=3)\n",
    "knn.fit(X_train, y_train)\n",
    "pred = knn.predict(X_test)"
   ]
  },
  {
   "cell_type": "code",
   "execution_count": 9,
   "metadata": {},
   "outputs": [
    {
     "name": "stdout",
     "output_type": "stream",
     "text": [
      "\n",
      "Model accuracy score:  0.9555555555555556\n",
      "\n",
      "From the test data\n",
      "Index\tPredicted\t\tActual\n",
      "29 \t Iris-versicolor \t Iris-virginica  ****\n",
      "43 \t Iris-virginica \t Iris-versicolor  ****\n"
     ]
    }
   ],
   "source": [
    "print ('\\nModel accuracy score: ', accuracy_score(y_test, pred))\n",
    "print(\"\\nFrom the test data\")\n",
    "print('Index\\tPredicted\\t\\tActual')\n",
    "for i in range(len(pred)):\n",
    "    if pred[i] != y_test[i]:\n",
    "        print(i, '\\t', pred[i], '\\t', y_test[i], ' ****')"
   ]
  },
  {
   "cell_type": "code",
   "execution_count": 10,
   "metadata": {},
   "outputs": [],
   "source": [
    "DataToPredict = np.array([[5.2,3.5,1.4,0.2],[5.7,2.9,3.6,1.3],[5.8,3.0,5.1,1.8]])\n",
    "pred = knn.predict(DataToPredict)"
   ]
  },
  {
   "cell_type": "code",
   "execution_count": 11,
   "metadata": {},
   "outputs": [
    {
     "name": "stdout",
     "output_type": "stream",
     "text": [
      "\n",
      "Predicted Results\n",
      "\t [5.2 3.5 1.4 0.2] \t Iris-setosa\n",
      "\t [5.7 2.9 3.6 1.3] \t Iris-versicolor\n",
      "\t [5.8 3.  5.1 1.8] \t Iris-virginica\n"
     ]
    }
   ],
   "source": [
    "print(\"\\nPredicted Results\")\n",
    "for i in range(len(pred)):\n",
    "    print('\\t', DataToPredict[i], '\\t', pred[i])"
   ]
  },
  {
   "cell_type": "code",
   "execution_count": 9,
   "metadata": {},
   "outputs": [],
   "source": [
    "# my hint:\n",
    "def euclideanDistance(instance1, instance2, noMissingColsIndex):\n",
    "    distance = 0\n",
    "    for idx in range(noMissingColsIndex):\n",
    "        distance += pow((instance1[idx] - instance2[idx]), 2)\n",
    "    return math.sqrt(distance)"
   ]
  },
  {
   "cell_type": "code",
   "execution_count": 10,
   "metadata": {},
   "outputs": [],
   "source": [
    "# noMissingColsIndex is a list\n",
    "def getNeighbors(allInstanceNoMissing, oneInstanceWithMissing, noMissingColsIndex, k):\n",
    "    distances = []\n",
    "    for x in range(len(allInstanceNoMissing)):\n",
    "        dist = euclideanDistance(oneInstanceWithMissing, allInstanceNoMissing[x], noMissingColsIndex)\n",
    "        distances.append((allInstanceNoMissing[x], dist))\n",
    "    distances.sort(key=operator.itemgetter(1))\n",
    "    neighbors = []\n",
    "    for x in range(k):\n",
    "        neighbors.append(distances[x][0])\n",
    "    return neighbors"
   ]
  },
  {
   "cell_type": "code",
   "execution_count": null,
   "metadata": {},
   "outputs": [],
   "source": []
  }
 ],
 "metadata": {
  "kernelspec": {
   "display_name": "Python 3 (ipykernel)",
   "language": "python",
   "name": "python3"
  },
  "language_info": {
   "codemirror_mode": {
    "name": "ipython",
    "version": 3
   },
   "file_extension": ".py",
   "mimetype": "text/x-python",
   "name": "python",
   "nbconvert_exporter": "python",
   "pygments_lexer": "ipython3",
   "version": "3.7.4"
  },
  "toc": {
   "base_numbering": 1,
   "nav_menu": {},
   "number_sections": true,
   "sideBar": true,
   "skip_h1_title": false,
   "title_cell": "Table of Contents",
   "title_sidebar": "Contents",
   "toc_cell": false,
   "toc_position": {},
   "toc_section_display": true,
   "toc_window_display": false
  }
 },
 "nbformat": 4,
 "nbformat_minor": 2
}
